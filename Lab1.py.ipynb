{
 "cells": [
  {
   "cell_type": "code",
   "execution_count": 1,
   "id": "ce8ad41a",
   "metadata": {},
   "outputs": [
    {
     "name": "stdout",
     "output_type": "stream",
     "text": [
      "Defaulting to user installation because normal site-packages is not writeable\n",
      "Requirement already satisfied: tensorflow in c:\\users\\students\\appdata\\roaming\\python\\python311\\site-packages (2.15.0)\n",
      "Requirement already satisfied: tensorflow-intel==2.15.0 in c:\\users\\students\\appdata\\roaming\\python\\python311\\site-packages (from tensorflow) (2.15.0)\n",
      "Requirement already satisfied: absl-py>=1.0.0 in c:\\users\\students\\appdata\\roaming\\python\\python311\\site-packages (from tensorflow-intel==2.15.0->tensorflow) (2.3.1)\n",
      "Requirement already satisfied: astunparse>=1.6.0 in c:\\users\\students\\appdata\\roaming\\python\\python311\\site-packages (from tensorflow-intel==2.15.0->tensorflow) (1.6.3)\n",
      "Requirement already satisfied: flatbuffers>=23.5.26 in c:\\users\\students\\appdata\\roaming\\python\\python311\\site-packages (from tensorflow-intel==2.15.0->tensorflow) (25.2.10)\n",
      "Requirement already satisfied: gast!=0.5.0,!=0.5.1,!=0.5.2,>=0.2.1 in c:\\users\\students\\appdata\\roaming\\python\\python311\\site-packages (from tensorflow-intel==2.15.0->tensorflow) (0.6.0)\n",
      "Requirement already satisfied: google-pasta>=0.1.1 in c:\\users\\students\\appdata\\roaming\\python\\python311\\site-packages (from tensorflow-intel==2.15.0->tensorflow) (0.2.0)\n",
      "Requirement already satisfied: h5py>=2.9.0 in c:\\users\\students\\appdata\\roaming\\python\\python311\\site-packages (from tensorflow-intel==2.15.0->tensorflow) (3.14.0)\n",
      "Requirement already satisfied: libclang>=13.0.0 in c:\\users\\students\\appdata\\roaming\\python\\python311\\site-packages (from tensorflow-intel==2.15.0->tensorflow) (18.1.1)\n",
      "Requirement already satisfied: ml-dtypes~=0.2.0 in c:\\users\\students\\appdata\\roaming\\python\\python311\\site-packages (from tensorflow-intel==2.15.0->tensorflow) (0.2.0)\n",
      "Requirement already satisfied: numpy<2.0.0,>=1.23.5 in c:\\users\\students\\appdata\\roaming\\python\\python311\\site-packages (from tensorflow-intel==2.15.0->tensorflow) (1.26.4)\n",
      "Requirement already satisfied: opt-einsum>=2.3.2 in c:\\users\\students\\appdata\\roaming\\python\\python311\\site-packages (from tensorflow-intel==2.15.0->tensorflow) (3.4.0)\n",
      "Requirement already satisfied: packaging in c:\\programdata\\anaconda3\\lib\\site-packages (from tensorflow-intel==2.15.0->tensorflow) (23.1)\n",
      "Requirement already satisfied: protobuf!=4.21.0,!=4.21.1,!=4.21.2,!=4.21.3,!=4.21.4,!=4.21.5,<5.0.0dev,>=3.20.3 in c:\\users\\students\\appdata\\roaming\\python\\python311\\site-packages (from tensorflow-intel==2.15.0->tensorflow) (4.25.8)\n",
      "Requirement already satisfied: setuptools in c:\\programdata\\anaconda3\\lib\\site-packages (from tensorflow-intel==2.15.0->tensorflow) (68.0.0)\n",
      "Requirement already satisfied: six>=1.12.0 in c:\\programdata\\anaconda3\\lib\\site-packages (from tensorflow-intel==2.15.0->tensorflow) (1.16.0)\n",
      "Requirement already satisfied: termcolor>=1.1.0 in c:\\users\\students\\appdata\\roaming\\python\\python311\\site-packages (from tensorflow-intel==2.15.0->tensorflow) (3.1.0)\n",
      "Requirement already satisfied: typing-extensions>=3.6.6 in c:\\users\\students\\appdata\\roaming\\python\\python311\\site-packages (from tensorflow-intel==2.15.0->tensorflow) (4.14.1)\n",
      "Requirement already satisfied: wrapt<1.15,>=1.11.0 in c:\\programdata\\anaconda3\\lib\\site-packages (from tensorflow-intel==2.15.0->tensorflow) (1.14.1)\n",
      "Requirement already satisfied: tensorflow-io-gcs-filesystem>=0.23.1 in c:\\users\\students\\appdata\\roaming\\python\\python311\\site-packages (from tensorflow-intel==2.15.0->tensorflow) (0.31.0)\n",
      "Requirement already satisfied: grpcio<2.0,>=1.24.3 in c:\\users\\students\\appdata\\roaming\\python\\python311\\site-packages (from tensorflow-intel==2.15.0->tensorflow) (1.74.0)\n",
      "Requirement already satisfied: tensorboard<2.16,>=2.15 in c:\\users\\students\\appdata\\roaming\\python\\python311\\site-packages (from tensorflow-intel==2.15.0->tensorflow) (2.15.2)\n",
      "Requirement already satisfied: tensorflow-estimator<2.16,>=2.15.0 in c:\\users\\students\\appdata\\roaming\\python\\python311\\site-packages (from tensorflow-intel==2.15.0->tensorflow) (2.15.0)\n",
      "Requirement already satisfied: keras<2.16,>=2.15.0 in c:\\users\\students\\appdata\\roaming\\python\\python311\\site-packages (from tensorflow-intel==2.15.0->tensorflow) (2.15.0)\n",
      "Requirement already satisfied: wheel<1.0,>=0.23.0 in c:\\programdata\\anaconda3\\lib\\site-packages (from astunparse>=1.6.0->tensorflow-intel==2.15.0->tensorflow) (0.38.4)\n",
      "Requirement already satisfied: google-auth<3,>=1.6.3 in c:\\users\\students\\appdata\\roaming\\python\\python311\\site-packages (from tensorboard<2.16,>=2.15->tensorflow-intel==2.15.0->tensorflow) (2.40.3)\n",
      "Requirement already satisfied: google-auth-oauthlib<2,>=0.5 in c:\\users\\students\\appdata\\roaming\\python\\python311\\site-packages (from tensorboard<2.16,>=2.15->tensorflow-intel==2.15.0->tensorflow) (1.2.2)\n",
      "Requirement already satisfied: markdown>=2.6.8 in c:\\programdata\\anaconda3\\lib\\site-packages (from tensorboard<2.16,>=2.15->tensorflow-intel==2.15.0->tensorflow) (3.4.1)\n",
      "Requirement already satisfied: requests<3,>=2.21.0 in c:\\programdata\\anaconda3\\lib\\site-packages (from tensorboard<2.16,>=2.15->tensorflow-intel==2.15.0->tensorflow) (2.31.0)\n",
      "Requirement already satisfied: tensorboard-data-server<0.8.0,>=0.7.0 in c:\\users\\students\\appdata\\roaming\\python\\python311\\site-packages (from tensorboard<2.16,>=2.15->tensorflow-intel==2.15.0->tensorflow) (0.7.2)\n",
      "Requirement already satisfied: werkzeug>=1.0.1 in c:\\programdata\\anaconda3\\lib\\site-packages (from tensorboard<2.16,>=2.15->tensorflow-intel==2.15.0->tensorflow) (2.2.3)\n",
      "Requirement already satisfied: cachetools<6.0,>=2.0.0 in c:\\users\\students\\appdata\\roaming\\python\\python311\\site-packages (from google-auth<3,>=1.6.3->tensorboard<2.16,>=2.15->tensorflow-intel==2.15.0->tensorflow) (5.5.2)\n",
      "Requirement already satisfied: pyasn1-modules>=0.2.1 in c:\\programdata\\anaconda3\\lib\\site-packages (from google-auth<3,>=1.6.3->tensorboard<2.16,>=2.15->tensorflow-intel==2.15.0->tensorflow) (0.2.8)\n",
      "Requirement already satisfied: rsa<5,>=3.1.4 in c:\\users\\students\\appdata\\roaming\\python\\python311\\site-packages (from google-auth<3,>=1.6.3->tensorboard<2.16,>=2.15->tensorflow-intel==2.15.0->tensorflow) (4.9.1)\n",
      "Requirement already satisfied: requests-oauthlib>=0.7.0 in c:\\users\\students\\appdata\\roaming\\python\\python311\\site-packages (from google-auth-oauthlib<2,>=0.5->tensorboard<2.16,>=2.15->tensorflow-intel==2.15.0->tensorflow) (2.0.0)\n",
      "Requirement already satisfied: charset-normalizer<4,>=2 in c:\\programdata\\anaconda3\\lib\\site-packages (from requests<3,>=2.21.0->tensorboard<2.16,>=2.15->tensorflow-intel==2.15.0->tensorflow) (2.0.4)\n",
      "Requirement already satisfied: idna<4,>=2.5 in c:\\programdata\\anaconda3\\lib\\site-packages (from requests<3,>=2.21.0->tensorboard<2.16,>=2.15->tensorflow-intel==2.15.0->tensorflow) (3.4)\n",
      "Requirement already satisfied: urllib3<3,>=1.21.1 in c:\\programdata\\anaconda3\\lib\\site-packages (from requests<3,>=2.21.0->tensorboard<2.16,>=2.15->tensorflow-intel==2.15.0->tensorflow) (1.26.16)\n",
      "Requirement already satisfied: certifi>=2017.4.17 in c:\\programdata\\anaconda3\\lib\\site-packages (from requests<3,>=2.21.0->tensorboard<2.16,>=2.15->tensorflow-intel==2.15.0->tensorflow) (2023.7.22)\n",
      "Requirement already satisfied: MarkupSafe>=2.1.1 in c:\\programdata\\anaconda3\\lib\\site-packages (from werkzeug>=1.0.1->tensorboard<2.16,>=2.15->tensorflow-intel==2.15.0->tensorflow) (2.1.1)\n",
      "Requirement already satisfied: pyasn1<0.5.0,>=0.4.6 in c:\\programdata\\anaconda3\\lib\\site-packages (from pyasn1-modules>=0.2.1->google-auth<3,>=1.6.3->tensorboard<2.16,>=2.15->tensorflow-intel==2.15.0->tensorflow) (0.4.8)\n",
      "Requirement already satisfied: oauthlib>=3.0.0 in c:\\users\\students\\appdata\\roaming\\python\\python311\\site-packages (from requests-oauthlib>=0.7.0->google-auth-oauthlib<2,>=0.5->tensorboard<2.16,>=2.15->tensorflow-intel==2.15.0->tensorflow) (3.3.1)\n"
     ]
    }
   ],
   "source": [
    "!pip install tensorflow"
   ]
  },
  {
   "cell_type": "code",
   "execution_count": 2,
   "id": "b05a077d",
   "metadata": {},
   "outputs": [
    {
     "name": "stdout",
     "output_type": "stream",
     "text": [
      "Tensor A:\n",
      " [[1 2]\n",
      " [3 4]]\n",
      "Tensor B:\n",
      " [[5 6]\n",
      " [7 8]]\n",
      "\n",
      " Addition:\n",
      " [[ 6  8]\n",
      " [10 12]]\n",
      "\n",
      " Subtraction:\n",
      " [[-4 -4]\n",
      " [-4 -4]]\n",
      "\n",
      " Multiplication:\n",
      " [[ 5 12]\n",
      " [21 32]]\n",
      "\n",
      " Division:\n",
      " [[0.2        0.33333333]\n",
      " [0.42857143 0.5       ]]\n",
      "\n",
      " Matmul:\n",
      " [[19 22]\n",
      " [43 50]]\n"
     ]
    }
   ],
   "source": [
    "import numpy as np\n",
    "A=np.array([[1,2],[3,4]])\n",
    "B=np.array([[5,6],[7,8]])\n",
    "print(\"Tensor A:\\n\",A)\n",
    "print(\"Tensor B:\\n\",B)\n",
    "add_result=A+B\n",
    "sub_result=A-B\n",
    "mul_result=A*B\n",
    "div_result=A/B\n",
    "matmul_result=A@B\n",
    "print(\"\\n Addition:\\n\",add_result)\n",
    "print(\"\\n Subtraction:\\n\",sub_result)\n",
    "print(\"\\n Multiplication:\\n\",mul_result)\n",
    "print(\"\\n Division:\\n\",div_result)\n",
    "print(\"\\n Matmul:\\n\",matmul_result)"
   ]
  },
  {
   "cell_type": "code",
   "execution_count": 3,
   "id": "6e79fb4e",
   "metadata": {},
   "outputs": [
    {
     "name": "stdout",
     "output_type": "stream",
     "text": [
      "WARNING:tensorflow:From C:\\Users\\students\\AppData\\Roaming\\Python\\Python311\\site-packages\\keras\\src\\losses.py:2976: The name tf.losses.sparse_softmax_cross_entropy is deprecated. Please use tf.compat.v1.losses.sparse_softmax_cross_entropy instead.\n",
      "\n",
      "\n",
      " Addition:\n",
      " [[ 6.  8.]\n",
      " [10. 12.]]\n",
      "\n",
      " Subtraction:\n",
      " [[-4. -4.]\n",
      " [-4. -4.]]\n",
      "\n",
      " Multiplication:\n",
      " [[ 5. 12.]\n",
      " [21. 32.]]\n",
      "\n",
      " Division:\n",
      " [[0.2        0.33333334]\n",
      " [0.42857143 0.5       ]]\n",
      "\n",
      " Matmul:\n",
      " [[19. 22.]\n",
      " [43. 50.]]\n"
     ]
    }
   ],
   "source": [
    "import tensorflow as tf\n",
    "A=tf.constant([[1,2],[3,4]],dtype=tf.float32)\n",
    "B=tf.constant([[5,6],[7,8]],dtype=tf.float32)\n",
    "add_result=tf.add(A,B)\n",
    "sub_result=tf.subtract(A,B)\n",
    "mul_result=tf.multiply(A,B)\n",
    "div_result=tf.divide(A,B)\n",
    "matmul_result=tf.matmul(A,B)\n",
    "print(\"\\n Addition:\\n\",add_result.numpy())\n",
    "print(\"\\n Subtraction:\\n\",sub_result.numpy())\n",
    "print(\"\\n Multiplication:\\n\",mul_result.numpy())\n",
    "print(\"\\n Division:\\n\",div_result.numpy())\n",
    "print(\"\\n Matmul:\\n\",matmul_result.numpy())"
   ]
  },
  {
   "cell_type": "code",
   "execution_count": 4,
   "id": "2b2fedcb",
   "metadata": {},
   "outputs": [
    {
     "data": {
      "text/plain": [
       "<tf.Tensor: shape=(), dtype=int32, numpy=2>"
      ]
     },
     "execution_count": 4,
     "metadata": {},
     "output_type": "execute_result"
    }
   ],
   "source": [
    " tf.rank(A)"
   ]
  },
  {
   "cell_type": "code",
   "execution_count": 5,
   "id": "a6c68b88",
   "metadata": {},
   "outputs": [
    {
     "data": {
      "text/plain": [
       "'/job:localhost/replica:0/task:0/device:CPU:0'"
      ]
     },
     "execution_count": 5,
     "metadata": {},
     "output_type": "execute_result"
    }
   ],
   "source": [
    "A.device"
   ]
  },
  {
   "cell_type": "code",
   "execution_count": 6,
   "id": "7f6a39c1",
   "metadata": {
    "scrolled": true
   },
   "outputs": [
    {
     "name": "stdout",
     "output_type": "stream",
     "text": [
      "Original Tensor:\n",
      " [[ 1  2  3  4]\n",
      " [ 5  6  7  8]\n",
      " [ 9 10 11 12]]\n",
      "[[ 1  2]\n",
      " [ 5  6]\n",
      " [ 9 10]]\n",
      "[[ 3  4]\n",
      " [ 7  8]\n",
      " [11 12]]\n",
      "\n",
      " Merged Tensor:\n",
      " [[ 1  2  3  4]\n",
      " [ 5  6  7  8]\n",
      " [ 9 10 11 12]]\n"
     ]
    }
   ],
   "source": [
    "import numpy as np\n",
    "data=np.arange(1,13).reshape(3,4)\n",
    "print(\"Original Tensor:\\n\",data)\n",
    "splits=np.split(data,2,axis=1)\n",
    "for part in splits:\n",
    "    print(part)\n",
    "merged=np.concatenate(splits,axis=1)\n",
    "print(\"\\n Merged Tensor:\\n\",merged)"
   ]
  },
  {
   "cell_type": "code",
   "execution_count": 7,
   "id": "56a305a3",
   "metadata": {
    "scrolled": true
   },
   "outputs": [
    {
     "name": "stdout",
     "output_type": "stream",
     "text": [
      "Original Tensor:\n",
      " [[ 1  2  3  4  5]\n",
      " [ 6  7  8  9 10]\n",
      " [11 12 13 14 15]\n",
      " [16 17 18 19 20]\n",
      " [21 22 23 24 25]]\n",
      "\n",
      "Split Parts:\n",
      "[[ 1]\n",
      " [ 6]\n",
      " [11]\n",
      " [16]\n",
      " [21]]\n",
      "[[ 2]\n",
      " [ 7]\n",
      " [12]\n",
      " [17]\n",
      " [22]]\n",
      "[[ 3]\n",
      " [ 8]\n",
      " [13]\n",
      " [18]\n",
      " [23]]\n",
      "[[ 4]\n",
      " [ 9]\n",
      " [14]\n",
      " [19]\n",
      " [24]]\n",
      "[[ 5]\n",
      " [10]\n",
      " [15]\n",
      " [20]\n",
      " [25]]\n",
      "\n",
      "Merged Tensor:\n",
      " [[ 1  2  3  4  5]\n",
      " [ 6  7  8  9 10]\n",
      " [11 12 13 14 15]\n",
      " [16 17 18 19 20]\n",
      " [21 22 23 24 25]]\n",
      "\n",
      " Statistics:\n",
      "Mean:13.0\n",
      "Max:25\n",
      "Min:1\n",
      "Sum:325\n",
      "Standard Deviation:7.211102550927978\n"
     ]
    }
   ],
   "source": [
    "import numpy as np\n",
    "data=np.arange(1,26).reshape(5,5)\n",
    "print(\"Original Tensor:\\n\",data)\n",
    "splits=np.split(data,5,axis=1)\n",
    "print(\"\\nSplit Parts:\")\n",
    "for part in splits:\n",
    "    print(part)\n",
    "merged=np.concatenate(splits,axis=1)\n",
    "print(\"\\nMerged Tensor:\\n\",merged)\n",
    "mean_val=np.mean(data)\n",
    "max_val=np.max(data)\n",
    "min_val=np.min(data)\n",
    "sum_val=np.sum(data)\n",
    "std_val=np.std(data)\n",
    "print(\"\\n Statistics:\")\n",
    "print(f\"Mean:{mean_val}\")\n",
    "print(f\"Max:{max_val}\")\n",
    "print(f\"Min:{min_val}\")\n",
    "print(f\"Sum:{sum_val}\")\n",
    "print(f\"Standard Deviation:{std_val}\")\n"
   ]
  },
  {
   "cell_type": "code",
   "execution_count": 29,
   "id": "05984a93",
   "metadata": {
    "scrolled": true
   },
   "outputs": [
    {
     "name": "stdout",
     "output_type": "stream",
     "text": [
      "Original Tensor:\n",
      " [[ 1.  2.  3.  4.]\n",
      " [ 5.  6.  7.  8.]\n",
      " [ 9. 10. 11. 12.]]\n",
      "\n",
      "Split Parts:\n",
      "[[ 1.  2.]\n",
      " [ 5.  6.]\n",
      " [ 9. 10.]]\n",
      "[[ 3.  4.]\n",
      " [ 7.  8.]\n",
      " [11. 12.]]\n",
      "\n",
      "Merged Tensor:\n",
      " [[ 1.  2.  3.  4.]\n",
      " [ 5.  6.  7.  8.]\n",
      " [ 9. 10. 11. 12.]]\n",
      "\n",
      "Statistics:\n",
      "Mean:6.5\n",
      "Max:12.0\n",
      "Min:1.0\n",
      "Sum:78.0\n",
      "Standard Deviation:3.452052593231201\n"
     ]
    }
   ],
   "source": [
    "import tensorflow as tf\n",
    "data=tf.constant([[1,2,3,4],[5,6,7,8],[9,10,11,12]],dtype=tf.float32)\n",
    "print(\"Original Tensor:\\n\",data.numpy())\n",
    "splits=tf.split(data,num_or_size_splits=2,axis=1)\n",
    "print(\"\\nSplit Parts:\")\n",
    "for part in splits:\n",
    "    print(part.numpy())\n",
    "merged=tf.concat(splits,axis=1)\n",
    "print(\"\\nMerged Tensor:\\n\",merged.numpy())\n",
    "mean_val=tf.reduce_mean(data)\n",
    "max_val=tf.reduce_max(data)\n",
    "min_val=tf.reduce_min(data)\n",
    "sum_val=tf.reduce_sum(data)\n",
    "std_val=tf.math.reduce_std(data)\n",
    "print(\"\\nStatistics:\")\n",
    "print(f\"Mean:{mean_val.numpy()}\")\n",
    "print(f\"Max:{max_val.numpy()}\")\n",
    "print(f\"Min:{min_val.numpy()}\")\n",
    "print(f\"Sum:{sum_val.numpy()}\")\n",
    "print(f\"Standard Deviation:{std_val.numpy()}\")"
   ]
  },
  {
   "cell_type": "code",
   "execution_count": 30,
   "id": "d40c7444",
   "metadata": {},
   "outputs": [],
   "source": [
    "X=tf.constant([[0.0,0.0],\n",
    "               [0.0,1.0],\n",
    "               [1.0,0.0],\n",
    "               [1.0,1.0]],dtype=tf.float32)"
   ]
  },
  {
   "cell_type": "code",
   "execution_count": 31,
   "id": "c3239ab5",
   "metadata": {},
   "outputs": [],
   "source": [
    "W=tf.constant([[-2.0],\n",
    "               [-2.0]],\n",
    "             dtype=tf.float32)"
   ]
  },
  {
   "cell_type": "code",
   "execution_count": 32,
   "id": "8383295e",
   "metadata": {},
   "outputs": [],
   "source": [
    "b=tf.constant([-3.0],dtype=tf.float32)#bias"
   ]
  },
  {
   "cell_type": "code",
   "execution_count": 33,
   "id": "f29f4773",
   "metadata": {},
   "outputs": [],
   "source": [
    "z=tf.matmul(X,W)+b"
   ]
  },
  {
   "cell_type": "code",
   "execution_count": 34,
   "id": "da87151a",
   "metadata": {
    "scrolled": true
   },
   "outputs": [
    {
     "name": "stdout",
     "output_type": "stream",
     "text": [
      "Inputs:\n",
      " [[0. 0.]\n",
      " [0. 1.]\n",
      " [1. 0.]\n",
      " [1. 1.]]\n",
      "Linear combination (z):\n",
      " [[-3.]\n",
      " [-5.]\n",
      " [-5.]\n",
      " [-7.]]\n",
      "Step output (Perceptron):\n",
      " [[0]\n",
      " [0]\n",
      " [0]\n",
      " [0]]\n",
      "sigmoid output(probability):\n",
      " [[0.04742587]\n",
      " [0.00669285]\n",
      " [0.00669285]\n",
      " [0.00091105]]\n"
     ]
    }
   ],
   "source": [
    "y_step=tf.cast(z >= 0,tf.int32)#binary output\n",
    "y_sigmoid=tf.math.sigmoid(z)\n",
    "print(\"Inputs:\\n\",X.numpy())\n",
    "print(\"Linear combination (z):\\n\",z.numpy())\n",
    "print(\"Step output (Perceptron):\\n\",y_step.numpy())\n",
    "print(\"sigmoid output(probability):\\n\",y_sigmoid.numpy())\n"
   ]
  },
  {
   "cell_type": "code",
   "execution_count": 37,
   "id": "e81ff591",
   "metadata": {},
   "outputs": [],
   "source": [
    "import tensorflow as tf\n",
    "import pandas as pd\n",
    "import numpy as np"
   ]
  },
  {
   "cell_type": "code",
   "execution_count": 38,
   "id": "6913f941",
   "metadata": {},
   "outputs": [
    {
     "data": {
      "text/html": [
       "<div>\n",
       "<style scoped>\n",
       "    .dataframe tbody tr th:only-of-type {\n",
       "        vertical-align: middle;\n",
       "    }\n",
       "\n",
       "    .dataframe tbody tr th {\n",
       "        vertical-align: top;\n",
       "    }\n",
       "\n",
       "    .dataframe thead th {\n",
       "        text-align: right;\n",
       "    }\n",
       "</style>\n",
       "<table border=\"1\" class=\"dataframe\">\n",
       "  <thead>\n",
       "    <tr style=\"text-align: right;\">\n",
       "      <th></th>\n",
       "      <th>sepal_length</th>\n",
       "      <th>sepal_width</th>\n",
       "      <th>petal_length</th>\n",
       "      <th>petal_width</th>\n",
       "      <th>species</th>\n",
       "    </tr>\n",
       "  </thead>\n",
       "  <tbody>\n",
       "    <tr>\n",
       "      <th>0</th>\n",
       "      <td>5.1</td>\n",
       "      <td>3.5</td>\n",
       "      <td>1.4</td>\n",
       "      <td>0.2</td>\n",
       "      <td>setosa</td>\n",
       "    </tr>\n",
       "    <tr>\n",
       "      <th>1</th>\n",
       "      <td>4.9</td>\n",
       "      <td>3.0</td>\n",
       "      <td>1.4</td>\n",
       "      <td>0.2</td>\n",
       "      <td>setosa</td>\n",
       "    </tr>\n",
       "    <tr>\n",
       "      <th>2</th>\n",
       "      <td>4.7</td>\n",
       "      <td>3.2</td>\n",
       "      <td>1.3</td>\n",
       "      <td>0.2</td>\n",
       "      <td>setosa</td>\n",
       "    </tr>\n",
       "    <tr>\n",
       "      <th>3</th>\n",
       "      <td>4.6</td>\n",
       "      <td>3.1</td>\n",
       "      <td>1.5</td>\n",
       "      <td>0.2</td>\n",
       "      <td>setosa</td>\n",
       "    </tr>\n",
       "    <tr>\n",
       "      <th>4</th>\n",
       "      <td>5.0</td>\n",
       "      <td>3.6</td>\n",
       "      <td>1.4</td>\n",
       "      <td>0.2</td>\n",
       "      <td>setosa</td>\n",
       "    </tr>\n",
       "    <tr>\n",
       "      <th>...</th>\n",
       "      <td>...</td>\n",
       "      <td>...</td>\n",
       "      <td>...</td>\n",
       "      <td>...</td>\n",
       "      <td>...</td>\n",
       "    </tr>\n",
       "    <tr>\n",
       "      <th>145</th>\n",
       "      <td>6.7</td>\n",
       "      <td>3.0</td>\n",
       "      <td>5.2</td>\n",
       "      <td>2.3</td>\n",
       "      <td>virginica</td>\n",
       "    </tr>\n",
       "    <tr>\n",
       "      <th>146</th>\n",
       "      <td>6.3</td>\n",
       "      <td>2.5</td>\n",
       "      <td>5.0</td>\n",
       "      <td>1.9</td>\n",
       "      <td>virginica</td>\n",
       "    </tr>\n",
       "    <tr>\n",
       "      <th>147</th>\n",
       "      <td>6.5</td>\n",
       "      <td>3.0</td>\n",
       "      <td>5.2</td>\n",
       "      <td>2.0</td>\n",
       "      <td>virginica</td>\n",
       "    </tr>\n",
       "    <tr>\n",
       "      <th>148</th>\n",
       "      <td>6.2</td>\n",
       "      <td>3.4</td>\n",
       "      <td>5.4</td>\n",
       "      <td>2.3</td>\n",
       "      <td>virginica</td>\n",
       "    </tr>\n",
       "    <tr>\n",
       "      <th>149</th>\n",
       "      <td>5.9</td>\n",
       "      <td>3.0</td>\n",
       "      <td>5.1</td>\n",
       "      <td>1.8</td>\n",
       "      <td>virginica</td>\n",
       "    </tr>\n",
       "  </tbody>\n",
       "</table>\n",
       "<p>150 rows × 5 columns</p>\n",
       "</div>"
      ],
      "text/plain": [
       "     sepal_length  sepal_width  petal_length  petal_width    species\n",
       "0             5.1          3.5           1.4          0.2     setosa\n",
       "1             4.9          3.0           1.4          0.2     setosa\n",
       "2             4.7          3.2           1.3          0.2     setosa\n",
       "3             4.6          3.1           1.5          0.2     setosa\n",
       "4             5.0          3.6           1.4          0.2     setosa\n",
       "..            ...          ...           ...          ...        ...\n",
       "145           6.7          3.0           5.2          2.3  virginica\n",
       "146           6.3          2.5           5.0          1.9  virginica\n",
       "147           6.5          3.0           5.2          2.0  virginica\n",
       "148           6.2          3.4           5.4          2.3  virginica\n",
       "149           5.9          3.0           5.1          1.8  virginica\n",
       "\n",
       "[150 rows x 5 columns]"
      ]
     },
     "execution_count": 38,
     "metadata": {},
     "output_type": "execute_result"
    }
   ],
   "source": [
    "df=pd.read_csv(\"iris.csv\")\n",
    "df"
   ]
  },
  {
   "cell_type": "code",
   "execution_count": 156,
   "id": "87f5e341",
   "metadata": {},
   "outputs": [],
   "source": [
    "X=df.iloc[:, 0:1].values\n",
    "y=df.iloc[:, -1].values"
   ]
  },
  {
   "cell_type": "code",
   "execution_count": 157,
   "id": "9d44e23c",
   "metadata": {},
   "outputs": [
    {
     "data": {
      "text/plain": [
       "array([0., 0., 0., 0., 0., 0., 0., 0., 0., 0., 0., 0., 0., 0., 0., 0., 0.,\n",
       "       0., 0., 0., 0., 0., 0., 0., 0., 0., 0., 0., 0., 0., 0., 0., 0., 0.,\n",
       "       0., 0., 0., 0., 0., 0., 0., 0., 0., 0., 0., 0., 0., 0., 0., 0., 1.,\n",
       "       1., 1., 1., 1., 1., 1., 1., 1., 1., 1., 1., 1., 1., 1., 1., 1., 1.,\n",
       "       1., 1., 1., 1., 1., 1., 1., 1., 1., 1., 1., 1., 1., 1., 1., 1., 1.,\n",
       "       1., 1., 1., 1., 1., 1., 1., 1., 1., 1., 1., 1., 1., 1., 1., 0., 0.,\n",
       "       0., 0., 0., 0., 0., 0., 0., 0., 0., 0., 0., 0., 0., 0., 0., 0., 0.,\n",
       "       0., 0., 0., 0., 0., 0., 0., 0., 0., 0., 0., 0., 0., 0., 0., 0., 0.,\n",
       "       0., 0., 0., 0., 0., 0., 0., 0., 0., 0., 0., 0., 0., 0.],\n",
       "      dtype=float32)"
      ]
     },
     "execution_count": 157,
     "metadata": {},
     "output_type": "execute_result"
    }
   ],
   "source": [
    "y_binary=np.where(y==\"versicolor\",1.0,0.0).astype(np.float32)\n",
    "y_binary"
   ]
  },
  {
   "cell_type": "code",
   "execution_count": 158,
   "id": "23500eac",
   "metadata": {},
   "outputs": [
    {
     "data": {
      "text/plain": [
       "array([[-0.90068117],\n",
       "       [-1.14301691],\n",
       "       [-1.38535265],\n",
       "       [-1.50652052],\n",
       "       [-1.02184904],\n",
       "       [-0.53717756],\n",
       "       [-1.50652052],\n",
       "       [-1.02184904],\n",
       "       [-1.74885626],\n",
       "       [-1.14301691],\n",
       "       [-0.53717756],\n",
       "       [-1.26418478],\n",
       "       [-1.26418478],\n",
       "       [-1.87002413],\n",
       "       [-0.05250608],\n",
       "       [-0.17367395],\n",
       "       [-0.53717756],\n",
       "       [-0.90068117],\n",
       "       [-0.17367395],\n",
       "       [-0.90068117],\n",
       "       [-0.53717756],\n",
       "       [-0.90068117],\n",
       "       [-1.50652052],\n",
       "       [-0.90068117],\n",
       "       [-1.26418478],\n",
       "       [-1.02184904],\n",
       "       [-1.02184904],\n",
       "       [-0.7795133 ],\n",
       "       [-0.7795133 ],\n",
       "       [-1.38535265],\n",
       "       [-1.26418478],\n",
       "       [-0.53717756],\n",
       "       [-0.7795133 ],\n",
       "       [-0.41600969],\n",
       "       [-1.14301691],\n",
       "       [-1.02184904],\n",
       "       [-0.41600969],\n",
       "       [-1.14301691],\n",
       "       [-1.74885626],\n",
       "       [-0.90068117],\n",
       "       [-1.02184904],\n",
       "       [-1.62768839],\n",
       "       [-1.74885626],\n",
       "       [-1.02184904],\n",
       "       [-0.90068117],\n",
       "       [-1.26418478],\n",
       "       [-0.90068117],\n",
       "       [-1.50652052],\n",
       "       [-0.65834543],\n",
       "       [-1.02184904],\n",
       "       [ 1.40150837],\n",
       "       [ 0.67450115],\n",
       "       [ 1.2803405 ],\n",
       "       [-0.41600969],\n",
       "       [ 0.79566902],\n",
       "       [-0.17367395],\n",
       "       [ 0.55333328],\n",
       "       [-1.14301691],\n",
       "       [ 0.91683689],\n",
       "       [-0.7795133 ],\n",
       "       [-1.02184904],\n",
       "       [ 0.06866179],\n",
       "       [ 0.18982966],\n",
       "       [ 0.31099753],\n",
       "       [-0.29484182],\n",
       "       [ 1.03800476],\n",
       "       [-0.29484182],\n",
       "       [-0.05250608],\n",
       "       [ 0.4321654 ],\n",
       "       [-0.29484182],\n",
       "       [ 0.06866179],\n",
       "       [ 0.31099753],\n",
       "       [ 0.55333328],\n",
       "       [ 0.31099753],\n",
       "       [ 0.67450115],\n",
       "       [ 0.91683689],\n",
       "       [ 1.15917263],\n",
       "       [ 1.03800476],\n",
       "       [ 0.18982966],\n",
       "       [-0.17367395],\n",
       "       [-0.41600969],\n",
       "       [-0.41600969],\n",
       "       [-0.05250608],\n",
       "       [ 0.18982966],\n",
       "       [-0.53717756],\n",
       "       [ 0.18982966],\n",
       "       [ 1.03800476],\n",
       "       [ 0.55333328],\n",
       "       [-0.29484182],\n",
       "       [-0.41600969],\n",
       "       [-0.41600969],\n",
       "       [ 0.31099753],\n",
       "       [-0.05250608],\n",
       "       [-1.02184904],\n",
       "       [-0.29484182],\n",
       "       [-0.17367395],\n",
       "       [-0.17367395],\n",
       "       [ 0.4321654 ],\n",
       "       [-0.90068117],\n",
       "       [-0.17367395],\n",
       "       [ 0.55333328],\n",
       "       [-0.05250608],\n",
       "       [ 1.52267624],\n",
       "       [ 0.55333328],\n",
       "       [ 0.79566902],\n",
       "       [ 2.12851559],\n",
       "       [-1.14301691],\n",
       "       [ 1.76501198],\n",
       "       [ 1.03800476],\n",
       "       [ 1.64384411],\n",
       "       [ 0.79566902],\n",
       "       [ 0.67450115],\n",
       "       [ 1.15917263],\n",
       "       [-0.17367395],\n",
       "       [-0.05250608],\n",
       "       [ 0.67450115],\n",
       "       [ 0.79566902],\n",
       "       [ 2.24968346],\n",
       "       [ 2.24968346],\n",
       "       [ 0.18982966],\n",
       "       [ 1.2803405 ],\n",
       "       [-0.29484182],\n",
       "       [ 2.24968346],\n",
       "       [ 0.55333328],\n",
       "       [ 1.03800476],\n",
       "       [ 1.64384411],\n",
       "       [ 0.4321654 ],\n",
       "       [ 0.31099753],\n",
       "       [ 0.67450115],\n",
       "       [ 1.64384411],\n",
       "       [ 1.88617985],\n",
       "       [ 2.4920192 ],\n",
       "       [ 0.67450115],\n",
       "       [ 0.55333328],\n",
       "       [ 0.31099753],\n",
       "       [ 2.24968346],\n",
       "       [ 0.55333328],\n",
       "       [ 0.67450115],\n",
       "       [ 0.18982966],\n",
       "       [ 1.2803405 ],\n",
       "       [ 1.03800476],\n",
       "       [ 1.2803405 ],\n",
       "       [-0.05250608],\n",
       "       [ 1.15917263],\n",
       "       [ 1.03800476],\n",
       "       [ 1.03800476],\n",
       "       [ 0.55333328],\n",
       "       [ 0.79566902],\n",
       "       [ 0.4321654 ],\n",
       "       [ 0.06866179]])"
      ]
     },
     "execution_count": 158,
     "metadata": {},
     "output_type": "execute_result"
    }
   ],
   "source": [
    "X=(X-X.mean(axis=0))/X.std(axis=0)\n",
    "X"
   ]
  },
  {
   "cell_type": "code",
   "execution_count": 159,
   "id": "cfe7324d",
   "metadata": {},
   "outputs": [
    {
     "data": {
      "text/plain": [
       "<tf.Tensor: shape=(150, 1), dtype=float32, numpy=\n",
       "array([[-0.9006812 ],\n",
       "       [-1.1430169 ],\n",
       "       [-1.3853526 ],\n",
       "       [-1.5065205 ],\n",
       "       [-1.021849  ],\n",
       "       [-0.53717756],\n",
       "       [-1.5065205 ],\n",
       "       [-1.021849  ],\n",
       "       [-1.7488563 ],\n",
       "       [-1.1430169 ],\n",
       "       [-0.53717756],\n",
       "       [-1.2641848 ],\n",
       "       [-1.2641848 ],\n",
       "       [-1.8700241 ],\n",
       "       [-0.05250608],\n",
       "       [-0.17367394],\n",
       "       [-0.53717756],\n",
       "       [-0.9006812 ],\n",
       "       [-0.17367394],\n",
       "       [-0.9006812 ],\n",
       "       [-0.53717756],\n",
       "       [-0.9006812 ],\n",
       "       [-1.5065205 ],\n",
       "       [-0.9006812 ],\n",
       "       [-1.2641848 ],\n",
       "       [-1.021849  ],\n",
       "       [-1.021849  ],\n",
       "       [-0.7795133 ],\n",
       "       [-0.7795133 ],\n",
       "       [-1.3853526 ],\n",
       "       [-1.2641848 ],\n",
       "       [-0.53717756],\n",
       "       [-0.7795133 ],\n",
       "       [-0.4160097 ],\n",
       "       [-1.1430169 ],\n",
       "       [-1.021849  ],\n",
       "       [-0.4160097 ],\n",
       "       [-1.1430169 ],\n",
       "       [-1.7488563 ],\n",
       "       [-0.9006812 ],\n",
       "       [-1.021849  ],\n",
       "       [-1.6276884 ],\n",
       "       [-1.7488563 ],\n",
       "       [-1.021849  ],\n",
       "       [-0.9006812 ],\n",
       "       [-1.2641848 ],\n",
       "       [-0.9006812 ],\n",
       "       [-1.5065205 ],\n",
       "       [-0.6583454 ],\n",
       "       [-1.021849  ],\n",
       "       [ 1.4015083 ],\n",
       "       [ 0.6745011 ],\n",
       "       [ 1.2803406 ],\n",
       "       [-0.4160097 ],\n",
       "       [ 0.795669  ],\n",
       "       [-0.17367394],\n",
       "       [ 0.5533333 ],\n",
       "       [-1.1430169 ],\n",
       "       [ 0.91683686],\n",
       "       [-0.7795133 ],\n",
       "       [-1.021849  ],\n",
       "       [ 0.06866179],\n",
       "       [ 0.18982966],\n",
       "       [ 0.31099755],\n",
       "       [-0.29484183],\n",
       "       [ 1.0380048 ],\n",
       "       [-0.29484183],\n",
       "       [-0.05250608],\n",
       "       [ 0.4321654 ],\n",
       "       [-0.29484183],\n",
       "       [ 0.06866179],\n",
       "       [ 0.31099755],\n",
       "       [ 0.5533333 ],\n",
       "       [ 0.31099755],\n",
       "       [ 0.6745011 ],\n",
       "       [ 0.91683686],\n",
       "       [ 1.1591727 ],\n",
       "       [ 1.0380048 ],\n",
       "       [ 0.18982966],\n",
       "       [-0.17367394],\n",
       "       [-0.4160097 ],\n",
       "       [-0.4160097 ],\n",
       "       [-0.05250608],\n",
       "       [ 0.18982966],\n",
       "       [-0.53717756],\n",
       "       [ 0.18982966],\n",
       "       [ 1.0380048 ],\n",
       "       [ 0.5533333 ],\n",
       "       [-0.29484183],\n",
       "       [-0.4160097 ],\n",
       "       [-0.4160097 ],\n",
       "       [ 0.31099755],\n",
       "       [-0.05250608],\n",
       "       [-1.021849  ],\n",
       "       [-0.29484183],\n",
       "       [-0.17367394],\n",
       "       [-0.17367394],\n",
       "       [ 0.4321654 ],\n",
       "       [-0.9006812 ],\n",
       "       [-0.17367394],\n",
       "       [ 0.5533333 ],\n",
       "       [-0.05250608],\n",
       "       [ 1.5226762 ],\n",
       "       [ 0.5533333 ],\n",
       "       [ 0.795669  ],\n",
       "       [ 2.1285155 ],\n",
       "       [-1.1430169 ],\n",
       "       [ 1.765012  ],\n",
       "       [ 1.0380048 ],\n",
       "       [ 1.6438441 ],\n",
       "       [ 0.795669  ],\n",
       "       [ 0.6745011 ],\n",
       "       [ 1.1591727 ],\n",
       "       [-0.17367394],\n",
       "       [-0.05250608],\n",
       "       [ 0.6745011 ],\n",
       "       [ 0.795669  ],\n",
       "       [ 2.2496834 ],\n",
       "       [ 2.2496834 ],\n",
       "       [ 0.18982966],\n",
       "       [ 1.2803406 ],\n",
       "       [-0.29484183],\n",
       "       [ 2.2496834 ],\n",
       "       [ 0.5533333 ],\n",
       "       [ 1.0380048 ],\n",
       "       [ 1.6438441 ],\n",
       "       [ 0.4321654 ],\n",
       "       [ 0.31099755],\n",
       "       [ 0.6745011 ],\n",
       "       [ 1.6438441 ],\n",
       "       [ 1.8861798 ],\n",
       "       [ 2.4920192 ],\n",
       "       [ 0.6745011 ],\n",
       "       [ 0.5533333 ],\n",
       "       [ 0.31099755],\n",
       "       [ 2.2496834 ],\n",
       "       [ 0.5533333 ],\n",
       "       [ 0.6745011 ],\n",
       "       [ 0.18982966],\n",
       "       [ 1.2803406 ],\n",
       "       [ 1.0380048 ],\n",
       "       [ 1.2803406 ],\n",
       "       [-0.05250608],\n",
       "       [ 1.1591727 ],\n",
       "       [ 1.0380048 ],\n",
       "       [ 1.0380048 ],\n",
       "       [ 0.5533333 ],\n",
       "       [ 0.795669  ],\n",
       "       [ 0.4321654 ],\n",
       "       [ 0.06866179]], dtype=float32)>"
      ]
     },
     "execution_count": 159,
     "metadata": {},
     "output_type": "execute_result"
    }
   ],
   "source": [
    "X_tf=tf.constant(X, dtype=tf.float32)\n",
    "X_tf"
   ]
  },
  {
   "cell_type": "code",
   "execution_count": 160,
   "id": "8e2aee1b",
   "metadata": {},
   "outputs": [
    {
     "data": {
      "text/plain": [
       "<tf.Tensor: shape=(2, 2), dtype=float32, numpy=\n",
       "array([[ 1.,  0.],\n",
       "       [-1.,  0.]], dtype=float32)>"
      ]
     },
     "execution_count": 160,
     "metadata": {},
     "output_type": "execute_result"
    }
   ],
   "source": [
    "W=tf.constant([[1,0],[-1,0]],dtype=tf.float32)\n",
    "W"
   ]
  },
  {
   "cell_type": "code",
   "execution_count": 161,
   "id": "b747644a",
   "metadata": {},
   "outputs": [],
   "source": [
    "b=tf.constant([0.2],dtype=tf.float32)"
   ]
  },
  {
   "cell_type": "code",
   "execution_count": 162,
   "id": "988f3664",
   "metadata": {},
   "outputs": [
    {
     "ename": "InvalidArgumentError",
     "evalue": "{{function_node __wrapped____MklMatMul_device_/job:localhost/replica:0/task:0/device:CPU:0}} Matrix size-incompatible: In[0]: [150,1], In[1]: [2,2] [Op:MatMul] name: ",
     "output_type": "error",
     "traceback": [
      "\u001b[1;31m---------------------------------------------------------------------------\u001b[0m",
      "\u001b[1;31mInvalidArgumentError\u001b[0m                      Traceback (most recent call last)",
      "Cell \u001b[1;32mIn[162], line 1\u001b[0m\n\u001b[1;32m----> 1\u001b[0m z\u001b[38;5;241m=\u001b[39mtf\u001b[38;5;241m.\u001b[39mmatmul(X_tf,W)\u001b[38;5;241m+\u001b[39mb\n",
      "File \u001b[1;32m~\\AppData\\Roaming\\Python\\Python311\\site-packages\\tensorflow\\python\\ops\\weak_tensor_ops.py:142\u001b[0m, in \u001b[0;36mweak_tensor_binary_op_wrapper.<locals>.wrapper\u001b[1;34m(*args, **kwargs)\u001b[0m\n\u001b[0;32m    140\u001b[0m \u001b[38;5;28;01mdef\u001b[39;00m \u001b[38;5;21mwrapper\u001b[39m(\u001b[38;5;241m*\u001b[39margs, \u001b[38;5;241m*\u001b[39m\u001b[38;5;241m*\u001b[39mkwargs):\n\u001b[0;32m    141\u001b[0m   \u001b[38;5;28;01mif\u001b[39;00m \u001b[38;5;129;01mnot\u001b[39;00m ops\u001b[38;5;241m.\u001b[39mis_auto_dtype_conversion_enabled():\n\u001b[1;32m--> 142\u001b[0m     \u001b[38;5;28;01mreturn\u001b[39;00m op(\u001b[38;5;241m*\u001b[39margs, \u001b[38;5;241m*\u001b[39m\u001b[38;5;241m*\u001b[39mkwargs)\n\u001b[0;32m    143\u001b[0m   bound_arguments \u001b[38;5;241m=\u001b[39m signature\u001b[38;5;241m.\u001b[39mbind(\u001b[38;5;241m*\u001b[39margs, \u001b[38;5;241m*\u001b[39m\u001b[38;5;241m*\u001b[39mkwargs)\n\u001b[0;32m    144\u001b[0m   bound_arguments\u001b[38;5;241m.\u001b[39mapply_defaults()\n",
      "File \u001b[1;32m~\\AppData\\Roaming\\Python\\Python311\\site-packages\\tensorflow\\python\\util\\traceback_utils.py:153\u001b[0m, in \u001b[0;36mfilter_traceback.<locals>.error_handler\u001b[1;34m(*args, **kwargs)\u001b[0m\n\u001b[0;32m    151\u001b[0m \u001b[38;5;28;01mexcept\u001b[39;00m \u001b[38;5;167;01mException\u001b[39;00m \u001b[38;5;28;01mas\u001b[39;00m e:\n\u001b[0;32m    152\u001b[0m   filtered_tb \u001b[38;5;241m=\u001b[39m _process_traceback_frames(e\u001b[38;5;241m.\u001b[39m__traceback__)\n\u001b[1;32m--> 153\u001b[0m   \u001b[38;5;28;01mraise\u001b[39;00m e\u001b[38;5;241m.\u001b[39mwith_traceback(filtered_tb) \u001b[38;5;28;01mfrom\u001b[39;00m \u001b[38;5;28;01mNone\u001b[39;00m\n\u001b[0;32m    154\u001b[0m \u001b[38;5;28;01mfinally\u001b[39;00m:\n\u001b[0;32m    155\u001b[0m   \u001b[38;5;28;01mdel\u001b[39;00m filtered_tb\n",
      "File \u001b[1;32m~\\AppData\\Roaming\\Python\\Python311\\site-packages\\tensorflow\\python\\framework\\ops.py:5883\u001b[0m, in \u001b[0;36mraise_from_not_ok_status\u001b[1;34m(e, name)\u001b[0m\n\u001b[0;32m   5881\u001b[0m \u001b[38;5;28;01mdef\u001b[39;00m \u001b[38;5;21mraise_from_not_ok_status\u001b[39m(e, name) \u001b[38;5;241m-\u001b[39m\u001b[38;5;241m>\u001b[39m NoReturn:\n\u001b[0;32m   5882\u001b[0m   e\u001b[38;5;241m.\u001b[39mmessage \u001b[38;5;241m+\u001b[39m\u001b[38;5;241m=\u001b[39m (\u001b[38;5;124m\"\u001b[39m\u001b[38;5;124m name: \u001b[39m\u001b[38;5;124m\"\u001b[39m \u001b[38;5;241m+\u001b[39m \u001b[38;5;28mstr\u001b[39m(name \u001b[38;5;28;01mif\u001b[39;00m name \u001b[38;5;129;01mis\u001b[39;00m \u001b[38;5;129;01mnot\u001b[39;00m \u001b[38;5;28;01mNone\u001b[39;00m \u001b[38;5;28;01melse\u001b[39;00m \u001b[38;5;124m\"\u001b[39m\u001b[38;5;124m\"\u001b[39m))\n\u001b[1;32m-> 5883\u001b[0m   \u001b[38;5;28;01mraise\u001b[39;00m core\u001b[38;5;241m.\u001b[39m_status_to_exception(e) \u001b[38;5;28;01mfrom\u001b[39;00m \u001b[38;5;28;01mNone\u001b[39;00m\n",
      "\u001b[1;31mInvalidArgumentError\u001b[0m: {{function_node __wrapped____MklMatMul_device_/job:localhost/replica:0/task:0/device:CPU:0}} Matrix size-incompatible: In[0]: [150,1], In[1]: [2,2] [Op:MatMul] name: "
     ]
    }
   ],
   "source": [
    "z=tf.matmul(X_tf,W)+b"
   ]
  },
  {
   "cell_type": "code",
   "execution_count": 110,
   "id": "9cbde380",
   "metadata": {},
   "outputs": [
    {
     "data": {
      "text/plain": [
       "TensorShape([150, 2])"
      ]
     },
     "execution_count": 110,
     "metadata": {},
     "output_type": "execute_result"
    }
   ],
   "source": [
    "X_tf.shape"
   ]
  },
  {
   "cell_type": "code",
   "execution_count": 111,
   "id": "31c07255",
   "metadata": {},
   "outputs": [
    {
     "data": {
      "text/plain": [
       "TensorShape([2, 2])"
      ]
     },
     "execution_count": 111,
     "metadata": {},
     "output_type": "execute_result"
    }
   ],
   "source": [
    "W.shape"
   ]
  },
  {
   "cell_type": "code",
   "execution_count": 112,
   "id": "e0973a6e",
   "metadata": {},
   "outputs": [],
   "source": [
    "y_pred_step=tf.cast(z>=0,tf.int32)"
   ]
  },
  {
   "cell_type": "code",
   "execution_count": 113,
   "id": "8b65a169",
   "metadata": {},
   "outputs": [],
   "source": [
    "y_pred_sigmoid=tf.math.sigmoid(z)"
   ]
  },
  {
   "cell_type": "code",
   "execution_count": 114,
   "id": "9451c2d9",
   "metadata": {},
   "outputs": [
    {
     "name": "stdout",
     "output_type": "stream",
     "text": [
      "First 10 True labels(Setosa=1,others=0): [1. 1. 1. 1. 1. 1. 1. 1. 1. 1.]\n",
      "First 10 step outputs: [0 1 0 1 0 1 0 1 0 1]\n",
      "First 10 sigmoid probabilities: [0.15023766 0.549834   0.30617577 0.549834   0.17899066 0.549834\n",
      " 0.1957667  0.549834   0.1105329  0.549834  ]\n"
     ]
    }
   ],
   "source": [
    "print(\"First 10 True labels(Setosa=1,others=0):\",y_binary[:10])\n",
    "print(\"First 10 step outputs:\",y_pred_step.numpy().flatten()[:10])\n",
    "print(\"First 10 sigmoid probabilities:\",y_pred_sigmoid.numpy().flatten()[:10])"
   ]
  },
  {
   "cell_type": "code",
   "execution_count": null,
   "id": "64fc5958",
   "metadata": {},
   "outputs": [],
   "source": []
  }
 ],
 "metadata": {
  "kernelspec": {
   "display_name": "Python 3 (ipykernel)",
   "language": "python",
   "name": "python3"
  },
  "language_info": {
   "codemirror_mode": {
    "name": "ipython",
    "version": 3
   },
   "file_extension": ".py",
   "mimetype": "text/x-python",
   "name": "python",
   "nbconvert_exporter": "python",
   "pygments_lexer": "ipython3",
   "version": "3.11.5"
  }
 },
 "nbformat": 4,
 "nbformat_minor": 5
}
